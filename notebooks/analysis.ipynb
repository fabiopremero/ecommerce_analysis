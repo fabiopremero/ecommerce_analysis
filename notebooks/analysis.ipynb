{
 "cells": [
  {
   "cell_type": "markdown",
   "id": "310ee07a",
   "metadata": {},
   "source": [
    "### Explorating Databases with Big Metrics and possible insights for deep-dive analysis"
   ]
  },
  {
   "cell_type": "code",
   "execution_count": 22,
   "id": "936afa04",
   "metadata": {},
   "outputs": [
    {
     "name": "stdout",
     "output_type": "stream",
     "text": [
      "/home/fabiopremero/projetos/github_projects/ecommerce_analysis/notebooks\n"
     ]
    }
   ],
   "source": [
    "import pandas as pd\n",
    "import numpy as np\n",
    "import matplotlib.pyplot as plt\n",
    "import seaborn as sns\n",
    "import os\n",
    "\n",
    "folder = print(os.getcwd())"
   ]
  },
  {
   "cell_type": "code",
   "execution_count": 23,
   "id": "b5a6f69d",
   "metadata": {},
   "outputs": [
    {
     "name": "stdout",
     "output_type": "stream",
     "text": [
      "item_key;item_name;desc;unit_price;man_country;supplier;unit\n",
      "\n",
      "I00001;A&W Root Beer - 12 oz cans;Beverage - Soda;11,5;Netherlands;Bolsius Boxmeer;cans\n",
      "\n",
      "I00002;A&W Root Beer Diet - 12 oz cans;Beverage - Soda;6,75;poland;CHROMADURLIN S.A.S;cans\n",
      "\n",
      "I00003;Barq's Root Beer - 12 oz cans;Beverage - Soda;6,75;Bangladesh;DENIMACH LTD;cans\n",
      "\n",
      "I00004;Cherry Coke 12oz;Beverage - Soda;6,75;Netherlands;Bolsius Boxmeer;cans\n",
      "\n",
      "I00005;Cherry Coke Zero 12 pack;Beverage - Soda;6,75;Finland;HARDFORD AB;cans\n",
      "\n",
      "I00006;Coke Classic 12 oz cans;Beverage - Soda;16,25;Lithuania;BIGSO AB;cans\n",
      "\n",
      "I00007;Coke Classic 12 oz cans;Beverage - Soda;6,75;India;Indo Count Industries Ltd;cans\n",
      "\n",
      "I00008;Coke Zero Sugar 12 oz cans;Beverage - Soda;16,25;India;Indo Count Industries Ltd;cans\n",
      "\n",
      "I00009;Diet Coke - 12 oz cans;Beverage - Soda;16,25;Netherlands;Bolsius Boxmeer;cans\n",
      "\n",
      "I00010;Diet Coke - 12 oz cans;Beverage - Soda;6,75;Lithuania;BIGSO AB;cans\n",
      "\n",
      "I00011;Diet Coke Caffeine Free 12oz cans;Beverage - Soda;6,75;Germany;Friedola 1888 GmbH;cans\n",
      "\n",
      "I00012;Diet Dr. Pepper - 12 oz cans;Beverage - Soda;16,25;China;CHERRY GROUP CO.,LTD;cans\n",
      "\n",
      "I00013;Diet Gingerale 12 oz cans;Beverage - Soda;6,75;United States;MAESA SAS;cans\n",
      "\n",
      "I00014;Diet Mountain Dew 12oz cans;Beverage - Soda;6,75;Finland;HARDFORD AB;cans\n",
      "\n"
     ]
    }
   ],
   "source": [
    "with open(r'../data/item_dim.csv', 'r', encoding='utf-8') as file:\n",
    "    for i in range(15):\n",
    "        print(file.readline())"
   ]
  },
  {
   "cell_type": "code",
   "execution_count": 24,
   "id": "37ea467e",
   "metadata": {},
   "outputs": [
    {
     "name": "stdout",
     "output_type": "stream",
     "text": [
      "<class 'pandas.core.frame.DataFrame'>\n",
      "RangeIndex: 9191 entries, 0 to 9190\n",
      "Data columns (total 4 columns):\n",
      " #   Column         Non-Null Count  Dtype \n",
      "---  ------         --------------  ----- \n",
      " 0   coustomer_key  9191 non-null   object\n",
      " 1   name           9164 non-null   object\n",
      " 2   contact_no     9191 non-null   int64 \n",
      " 3   nid            9191 non-null   int64 \n",
      "dtypes: int64(2), object(2)\n",
      "memory usage: 287.3+ KB\n"
     ]
    },
    {
     "data": {
      "text/html": [
       "<div>\n",
       "<style scoped>\n",
       "    .dataframe tbody tr th:only-of-type {\n",
       "        vertical-align: middle;\n",
       "    }\n",
       "\n",
       "    .dataframe tbody tr th {\n",
       "        vertical-align: top;\n",
       "    }\n",
       "\n",
       "    .dataframe thead th {\n",
       "        text-align: right;\n",
       "    }\n",
       "</style>\n",
       "<table border=\"1\" class=\"dataframe\">\n",
       "  <thead>\n",
       "    <tr style=\"text-align: right;\">\n",
       "      <th></th>\n",
       "      <th>coustomer_key</th>\n",
       "      <th>name</th>\n",
       "      <th>contact_no</th>\n",
       "      <th>nid</th>\n",
       "    </tr>\n",
       "  </thead>\n",
       "  <tbody>\n",
       "    <tr>\n",
       "      <th>0</th>\n",
       "      <td>C000001</td>\n",
       "      <td>sumit</td>\n",
       "      <td>8801920345851</td>\n",
       "      <td>7505075708899</td>\n",
       "    </tr>\n",
       "    <tr>\n",
       "      <th>1</th>\n",
       "      <td>C000002</td>\n",
       "      <td>tammanne</td>\n",
       "      <td>8801817069329</td>\n",
       "      <td>1977731324842</td>\n",
       "    </tr>\n",
       "    <tr>\n",
       "      <th>2</th>\n",
       "      <td>C000003</td>\n",
       "      <td>kailash kumar</td>\n",
       "      <td>8801663795774</td>\n",
       "      <td>3769494056318</td>\n",
       "    </tr>\n",
       "    <tr>\n",
       "      <th>3</th>\n",
       "      <td>C000004</td>\n",
       "      <td>bhagwati prasad</td>\n",
       "      <td>8801533627961</td>\n",
       "      <td>9378834712725</td>\n",
       "    </tr>\n",
       "    <tr>\n",
       "      <th>4</th>\n",
       "      <td>C000005</td>\n",
       "      <td>ajay</td>\n",
       "      <td>8801943715786</td>\n",
       "      <td>3540815556323</td>\n",
       "    </tr>\n",
       "  </tbody>\n",
       "</table>\n",
       "</div>"
      ],
      "text/plain": [
       "  coustomer_key             name     contact_no            nid\n",
       "0       C000001            sumit  8801920345851  7505075708899\n",
       "1       C000002         tammanne  8801817069329  1977731324842\n",
       "2       C000003    kailash kumar  8801663795774  3769494056318\n",
       "3       C000004  bhagwati prasad  8801533627961  9378834712725\n",
       "4       C000005             ajay  8801943715786  3540815556323"
      ]
     },
     "execution_count": 24,
     "metadata": {},
     "output_type": "execute_result"
    }
   ],
   "source": [
    "# Importing all databases\n",
    "df = pd.read_csv(r'../data/fact_table.csv', sep= ';', decimal=',')\n",
    "df_time = pd.read_csv(r'../data/time_dim.csv')\n",
    "df_item = pd.read_csv(r'../data/item_dim.csv', sep=';', encoding='latin1', decimal=',')\n",
    "df_store = pd.read_csv(r'../data/store_dim.csv', sep=',')\n",
    "df_trans = pd.read_csv(r'../data/Trans_dim.csv', sep=',')\n",
    "df_cust = pd.read_csv(r'../data/customer_dim.csv', sep=',', encoding='latin1')\n",
    "\n",
    "df_cust.info()\n",
    "df_cust.head()"
   ]
  },
  {
   "cell_type": "code",
   "execution_count": 25,
   "id": "6baf2219",
   "metadata": {},
   "outputs": [
    {
     "name": "stderr",
     "output_type": "stream",
     "text": [
      "/tmp/ipykernel_10488/1119926485.py:3: UserWarning: Parsing dates in %d-%m-%Y %H:%M format when dayfirst=False (the default) was specified. Pass `dayfirst=True` or specify a format to silence this warning.\n",
      "  df_time['date'] = pd.to_datetime(df_time['date'], errors='coerce', dayfirst=False)\n"
     ]
    },
    {
     "data": {
      "text/html": [
       "<div>\n",
       "<style scoped>\n",
       "    .dataframe tbody tr th:only-of-type {\n",
       "        vertical-align: middle;\n",
       "    }\n",
       "\n",
       "    .dataframe tbody tr th {\n",
       "        vertical-align: top;\n",
       "    }\n",
       "\n",
       "    .dataframe thead th {\n",
       "        text-align: right;\n",
       "    }\n",
       "</style>\n",
       "<table border=\"1\" class=\"dataframe\">\n",
       "  <thead>\n",
       "    <tr style=\"text-align: right;\">\n",
       "      <th></th>\n",
       "      <th>time_key</th>\n",
       "      <th>date</th>\n",
       "      <th>hour</th>\n",
       "      <th>day</th>\n",
       "      <th>week</th>\n",
       "      <th>month</th>\n",
       "      <th>quarter</th>\n",
       "      <th>year</th>\n",
       "    </tr>\n",
       "  </thead>\n",
       "  <tbody>\n",
       "    <tr>\n",
       "      <th>0</th>\n",
       "      <td>T00001</td>\n",
       "      <td>2017-05-20 14:56:00</td>\n",
       "      <td>14</td>\n",
       "      <td>20</td>\n",
       "      <td>3rd Week</td>\n",
       "      <td>5</td>\n",
       "      <td>Q2</td>\n",
       "      <td>2017</td>\n",
       "    </tr>\n",
       "    <tr>\n",
       "      <th>1</th>\n",
       "      <td>T00002</td>\n",
       "      <td>2015-01-30 22:14:00</td>\n",
       "      <td>22</td>\n",
       "      <td>30</td>\n",
       "      <td>4th Week</td>\n",
       "      <td>1</td>\n",
       "      <td>Q1</td>\n",
       "      <td>2015</td>\n",
       "    </tr>\n",
       "    <tr>\n",
       "      <th>2</th>\n",
       "      <td>T00003</td>\n",
       "      <td>2020-03-14 02:34:00</td>\n",
       "      <td>2</td>\n",
       "      <td>14</td>\n",
       "      <td>2nd Week</td>\n",
       "      <td>3</td>\n",
       "      <td>Q1</td>\n",
       "      <td>2020</td>\n",
       "    </tr>\n",
       "    <tr>\n",
       "      <th>3</th>\n",
       "      <td>T00004</td>\n",
       "      <td>2018-04-27 12:19:00</td>\n",
       "      <td>12</td>\n",
       "      <td>27</td>\n",
       "      <td>4th Week</td>\n",
       "      <td>4</td>\n",
       "      <td>Q2</td>\n",
       "      <td>2018</td>\n",
       "    </tr>\n",
       "    <tr>\n",
       "      <th>4</th>\n",
       "      <td>T00005</td>\n",
       "      <td>2018-04-14 10:43:00</td>\n",
       "      <td>10</td>\n",
       "      <td>14</td>\n",
       "      <td>2nd Week</td>\n",
       "      <td>4</td>\n",
       "      <td>Q2</td>\n",
       "      <td>2018</td>\n",
       "    </tr>\n",
       "  </tbody>\n",
       "</table>\n",
       "</div>"
      ],
      "text/plain": [
       "  time_key                date  hour  day      week  month quarter  year\n",
       "0   T00001 2017-05-20 14:56:00    14   20  3rd Week      5      Q2  2017\n",
       "1   T00002 2015-01-30 22:14:00    22   30  4th Week      1      Q1  2015\n",
       "2   T00003 2020-03-14 02:34:00     2   14  2nd Week      3      Q1  2020\n",
       "3   T00004 2018-04-27 12:19:00    12   27  4th Week      4      Q2  2018\n",
       "4   T00005 2018-04-14 10:43:00    10   14  2nd Week      4      Q2  2018"
      ]
     },
     "execution_count": 25,
     "metadata": {},
     "output_type": "execute_result"
    }
   ],
   "source": [
    "# Ajusting df_time for the perfect DType\n",
    "\n",
    "df_time['date'] = pd.to_datetime(df_time['date'], errors='coerce', dayfirst=False)\n",
    "df_time.head()"
   ]
  },
  {
   "cell_type": "markdown",
   "id": "0b467dd6",
   "metadata": {},
   "source": [
    "#### Analysing Metrics in Date Range"
   ]
  },
  {
   "cell_type": "code",
   "execution_count": 29,
   "id": "59847df7",
   "metadata": {},
   "outputs": [
    {
     "data": {
      "text/html": [
       "<div>\n",
       "<style scoped>\n",
       "    .dataframe tbody tr th:only-of-type {\n",
       "        vertical-align: middle;\n",
       "    }\n",
       "\n",
       "    .dataframe tbody tr th {\n",
       "        vertical-align: top;\n",
       "    }\n",
       "\n",
       "    .dataframe thead th {\n",
       "        text-align: right;\n",
       "    }\n",
       "</style>\n",
       "<table border=\"1\" class=\"dataframe\">\n",
       "  <thead>\n",
       "    <tr style=\"text-align: right;\">\n",
       "      <th></th>\n",
       "      <th>payment_key</th>\n",
       "      <th>coustomer_key</th>\n",
       "      <th>time_key</th>\n",
       "      <th>item_key</th>\n",
       "      <th>store_key</th>\n",
       "      <th>quantity</th>\n",
       "      <th>unit</th>\n",
       "      <th>unit_price</th>\n",
       "      <th>total_price</th>\n",
       "      <th>date</th>\n",
       "      <th>hour</th>\n",
       "      <th>day</th>\n",
       "      <th>week</th>\n",
       "      <th>month</th>\n",
       "      <th>quarter</th>\n",
       "      <th>year</th>\n",
       "    </tr>\n",
       "  </thead>\n",
       "  <tbody>\n",
       "    <tr>\n",
       "      <th>0</th>\n",
       "      <td>P026</td>\n",
       "      <td>C004510</td>\n",
       "      <td>T049189</td>\n",
       "      <td>I00177</td>\n",
       "      <td>S00307</td>\n",
       "      <td>1</td>\n",
       "      <td>ct</td>\n",
       "      <td>35.0</td>\n",
       "      <td>35.0</td>\n",
       "      <td>2016-04-26 17:13:00</td>\n",
       "      <td>17</td>\n",
       "      <td>26</td>\n",
       "      <td>4th Week</td>\n",
       "      <td>4</td>\n",
       "      <td>Q2</td>\n",
       "      <td>2016</td>\n",
       "    </tr>\n",
       "    <tr>\n",
       "      <th>1</th>\n",
       "      <td>P022</td>\n",
       "      <td>C008967</td>\n",
       "      <td>T041209</td>\n",
       "      <td>I00248</td>\n",
       "      <td>S00595</td>\n",
       "      <td>1</td>\n",
       "      <td>rolls</td>\n",
       "      <td>26.0</td>\n",
       "      <td>26.0</td>\n",
       "      <td>2018-06-11 19:08:00</td>\n",
       "      <td>19</td>\n",
       "      <td>11</td>\n",
       "      <td>2nd Week</td>\n",
       "      <td>6</td>\n",
       "      <td>Q2</td>\n",
       "      <td>2018</td>\n",
       "    </tr>\n",
       "    <tr>\n",
       "      <th>2</th>\n",
       "      <td>P030</td>\n",
       "      <td>C007261</td>\n",
       "      <td>T03633</td>\n",
       "      <td>I00195</td>\n",
       "      <td>S00496</td>\n",
       "      <td>8</td>\n",
       "      <td>ct</td>\n",
       "      <td>12.5</td>\n",
       "      <td>100.0</td>\n",
       "      <td>2016-11-19 08:19:00</td>\n",
       "      <td>8</td>\n",
       "      <td>19</td>\n",
       "      <td>3rd Week</td>\n",
       "      <td>11</td>\n",
       "      <td>Q4</td>\n",
       "      <td>2016</td>\n",
       "    </tr>\n",
       "    <tr>\n",
       "      <th>3</th>\n",
       "      <td>P032</td>\n",
       "      <td>C007048</td>\n",
       "      <td>T084631</td>\n",
       "      <td>I00131</td>\n",
       "      <td>S0086</td>\n",
       "      <td>8</td>\n",
       "      <td>ct</td>\n",
       "      <td>14.0</td>\n",
       "      <td>112.0</td>\n",
       "      <td>2020-02-01 06:00:00</td>\n",
       "      <td>6</td>\n",
       "      <td>1</td>\n",
       "      <td>1st Week</td>\n",
       "      <td>2</td>\n",
       "      <td>Q1</td>\n",
       "      <td>2020</td>\n",
       "    </tr>\n",
       "    <tr>\n",
       "      <th>4</th>\n",
       "      <td>P014</td>\n",
       "      <td>C006430</td>\n",
       "      <td>T071276</td>\n",
       "      <td>I00050</td>\n",
       "      <td>S00488</td>\n",
       "      <td>8</td>\n",
       "      <td>cans</td>\n",
       "      <td>8.0</td>\n",
       "      <td>64.0</td>\n",
       "      <td>2014-07-15 02:58:00</td>\n",
       "      <td>2</td>\n",
       "      <td>15</td>\n",
       "      <td>3rd Week</td>\n",
       "      <td>7</td>\n",
       "      <td>Q3</td>\n",
       "      <td>2014</td>\n",
       "    </tr>\n",
       "  </tbody>\n",
       "</table>\n",
       "</div>"
      ],
      "text/plain": [
       "  payment_key coustomer_key time_key item_key store_key  quantity   unit  \\\n",
       "0        P026       C004510  T049189   I00177    S00307         1     ct   \n",
       "1        P022       C008967  T041209   I00248    S00595         1  rolls   \n",
       "2        P030       C007261   T03633   I00195    S00496         8     ct   \n",
       "3        P032       C007048  T084631   I00131     S0086         8     ct   \n",
       "4        P014       C006430  T071276   I00050    S00488         8   cans   \n",
       "\n",
       "   unit_price  total_price                date  hour  day      week  month  \\\n",
       "0        35.0         35.0 2016-04-26 17:13:00    17   26  4th Week      4   \n",
       "1        26.0         26.0 2018-06-11 19:08:00    19   11  2nd Week      6   \n",
       "2        12.5        100.0 2016-11-19 08:19:00     8   19  3rd Week     11   \n",
       "3        14.0        112.0 2020-02-01 06:00:00     6    1  1st Week      2   \n",
       "4         8.0         64.0 2014-07-15 02:58:00     2   15  3rd Week      7   \n",
       "\n",
       "  quarter  year  \n",
       "0      Q2  2016  \n",
       "1      Q2  2018  \n",
       "2      Q4  2016  \n",
       "3      Q1  2020  \n",
       "4      Q3  2014  "
      ]
     },
     "execution_count": 29,
     "metadata": {},
     "output_type": "execute_result"
    }
   ],
   "source": [
    "df_fact_time = df.merge(df_time,how='left')\n",
    "\n",
    "df_fact_time = df_fact_time[(df_fact_time['date'] >= '2014-03-01') & (df_fact_time['date'] <= '2020-12-31')]\n",
    "\n",
    "df_fact_time.head()\n",
    "\n"
   ]
  },
  {
   "cell_type": "code",
   "execution_count": 38,
   "id": "e4b0d312",
   "metadata": {},
   "outputs": [
    {
     "name": "stderr",
     "output_type": "stream",
     "text": [
      "/tmp/ipykernel_10488/2520315488.py:5: FutureWarning: \n",
      "\n",
      "Passing `palette` without assigning `hue` is deprecated and will be removed in v0.14.0. Assign the `x` variable to `hue` and set `legend=False` for the same effect.\n",
      "\n",
      "  sns.barplot(data=annual_revenue, x='year', y='total_price', palette='Blues')\n"
     ]
    },
    {
     "data": {
      "image/png": "[encoded data removed]",
      "text/plain": [
       "<Figure size 1000x600 with 1 Axes>"
      ]
     },
     "metadata": {},
     "output_type": "display_data"
    }
   ],
   "source": [
    "# Create a column for sorting and labeling\n",
    "annual_revenue = df_fact_time.groupby('year')['total_price'].sum().reset_index()\n",
    "\n",
    "plt.figure(figsize=(10, 6))\n",
    "sns.barplot(data=annual_revenue, x='year', y='total_price', palette='Blues')\n",
    "\n",
    "plt.title('Annual Revenue')\n",
    "plt.xlabel('Year')\n",
    "plt.ylabel('Revenue')\n",
    "plt.grid(axis='y')\n",
    "plt.tight_layout()\n",
    "plt.show()"
   ]
  },
  {
   "cell_type": "markdown",
   "id": "6901e997",
   "metadata": {},
   "source": [
    "#### Top 10 Products by Total Revenue"
   ]
  },
  {
   "cell_type": "code",
   "execution_count": 43,
   "id": "b2584389",
   "metadata": {},
   "outputs": [
    {
     "name": "stdout",
     "output_type": "stream",
     "text": [
      "<class 'pandas.core.frame.DataFrame'>\n",
      "RangeIndex: 264 entries, 0 to 263\n",
      "Data columns (total 7 columns):\n",
      " #   Column       Non-Null Count  Dtype  \n",
      "---  ------       --------------  -----  \n",
      " 0   item_key     264 non-null    object \n",
      " 1   item_name    264 non-null    object \n",
      " 2   desc         264 non-null    object \n",
      " 3   unit_price   264 non-null    float64\n",
      " 4   man_country  264 non-null    object \n",
      " 5   supplier     264 non-null    object \n",
      " 6   unit         263 non-null    object \n",
      "dtypes: float64(1), object(6)\n",
      "memory usage: 14.6+ KB\n"
     ]
    }
   ],
   "source": [
    "df_item.info()"
   ]
  },
  {
   "cell_type": "code",
   "execution_count": 45,
   "id": "30e18ad1",
   "metadata": {},
   "outputs": [],
   "source": [
    "top_products = df_fact_time.groupby('item_key')['total_price'].sum().reset_index()\n",
    "\n",
    "top_products = top_products.sort_values(by='total_price', ascending=False)\n",
    "top_10_products = top_products.head(10)\n",
    "\n",
    "top_10_products = top_10_products.merge(df_item, on='item_key',how='left')"
   ]
  },
  {
   "cell_type": "code",
   "execution_count": 47,
   "id": "67d9f658",
   "metadata": {},
   "outputs": [
    {
     "name": "stderr",
     "output_type": "stream",
     "text": [
      "/tmp/ipykernel_10488/1903427541.py:2: FutureWarning: \n",
      "\n",
      "Passing `palette` without assigning `hue` is deprecated and will be removed in v0.14.0. Assign the `y` variable to `hue` and set `legend=False` for the same effect.\n",
      "\n",
      "  sns.barplot(data=top_10_products, x='total_price', y='item_name', palette='viridis')\n",
      "/tmp/ipykernel_10488/1903427541.py:8: UserWarning: Glyph 150 (\\x96) missing from font(s) DejaVu Sans.\n",
      "  plt.tight_layout()\n",
      "/home/fabiopremero/projetos/.venv/lib/python3.10/site-packages/IPython/core/pylabtools.py:170: UserWarning: Glyph 150 (\\x96) missing from font(s) DejaVu Sans.\n",
      "  fig.canvas.print_figure(bytes_io, **kw)\n"
     ]
    },
    {
     "data": {
      "image/png": "[encoded data removed]",
      "text/plain": [
       "<Figure size 1200x600 with 1 Axes>"
      ]
     },
     "metadata": {},
     "output_type": "display_data"
    }
   ],
   "source": [
    "plt.figure(figsize=(12, 6))\n",
    "sns.barplot(data=top_10_products, x='total_price', y='item_name', palette='viridis')\n",
    "\n",
    "plt.title('Top 10 Products by Total Revenue')\n",
    "plt.xlabel('Revenue')\n",
    "plt.ylabel('Product')\n",
    "plt.grid(axis='x')\n",
    "plt.tight_layout()\n",
    "plt.show()\n"
   ]
  }
 ],
 "metadata": {
  "kernelspec": {
   "display_name": ".venv",
   "language": "python",
   "name": "python3"
  },
  "language_info": {
   "codemirror_mode": {
    "name": "ipython",
    "version": 3
   },
   "file_extension": ".py",
   "mimetype": "text/x-python",
   "name": "python",
   "nbconvert_exporter": "python",
   "pygments_lexer": "ipython3",
   "version": "3.10.12"
  }
 },
 "nbformat": 4,
 "nbformat_minor": 5
}
